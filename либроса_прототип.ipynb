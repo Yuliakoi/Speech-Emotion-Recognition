{
  "nbformat": 4,
  "nbformat_minor": 0,
  "metadata": {
    "colab": {
      "name": "либроса прототип",
      "provenance": [],
      "include_colab_link": true
    },
    "kernelspec": {
      "name": "python3",
      "display_name": "Python 3"
    }
  },
  "cells": [
    {
      "cell_type": "markdown",
      "metadata": {
        "id": "view-in-github",
        "colab_type": "text"
      },
      "source": [
        "<a href=\"https://colab.research.google.com/github/Yuliakoi/Speech-Emotion-Recognition/blob/main/%D0%BB%D0%B8%D0%B1%D1%80%D0%BE%D1%81%D0%B0_%D0%BF%D1%80%D0%BE%D1%82%D0%BE%D1%82%D0%B8%D0%BF.ipynb\" target=\"_parent\"><img src=\"https://colab.research.google.com/assets/colab-badge.svg\" alt=\"Open In Colab\"/></a>"
      ]
    },
    {
      "cell_type": "code",
      "metadata": {
        "id": "y-FhXvjPXqcJ",
        "colab": {
          "base_uri": "https://localhost:8080/"
        },
        "outputId": "c99cd85b-a826-464f-a795-8fa3ad04f014"
      },
      "source": [
        "!pip install librosa\n"
      ],
      "execution_count": 1,
      "outputs": [
        {
          "output_type": "stream",
          "text": [
            "Requirement already satisfied: librosa in /usr/local/lib/python3.7/dist-packages (0.8.0)\n",
            "Requirement already satisfied: joblib>=0.14 in /usr/local/lib/python3.7/dist-packages (from librosa) (1.0.1)\n",
            "Requirement already satisfied: numba>=0.43.0 in /usr/local/lib/python3.7/dist-packages (from librosa) (0.51.2)\n",
            "Requirement already satisfied: decorator>=3.0.0 in /usr/local/lib/python3.7/dist-packages (from librosa) (4.4.2)\n",
            "Requirement already satisfied: numpy>=1.15.0 in /usr/local/lib/python3.7/dist-packages (from librosa) (1.19.5)\n",
            "Requirement already satisfied: resampy>=0.2.2 in /usr/local/lib/python3.7/dist-packages (from librosa) (0.2.2)\n",
            "Requirement already satisfied: scipy>=1.0.0 in /usr/local/lib/python3.7/dist-packages (from librosa) (1.4.1)\n",
            "Requirement already satisfied: scikit-learn!=0.19.0,>=0.14.0 in /usr/local/lib/python3.7/dist-packages (from librosa) (0.22.2.post1)\n",
            "Requirement already satisfied: audioread>=2.0.0 in /usr/local/lib/python3.7/dist-packages (from librosa) (2.1.9)\n",
            "Requirement already satisfied: soundfile>=0.9.0 in /usr/local/lib/python3.7/dist-packages (from librosa) (0.10.3.post1)\n",
            "Requirement already satisfied: pooch>=1.0 in /usr/local/lib/python3.7/dist-packages (from librosa) (1.3.0)\n",
            "Requirement already satisfied: llvmlite<0.35,>=0.34.0.dev0 in /usr/local/lib/python3.7/dist-packages (from numba>=0.43.0->librosa) (0.34.0)\n",
            "Requirement already satisfied: setuptools in /usr/local/lib/python3.7/dist-packages (from numba>=0.43.0->librosa) (56.0.0)\n",
            "Requirement already satisfied: six>=1.3 in /usr/local/lib/python3.7/dist-packages (from resampy>=0.2.2->librosa) (1.15.0)\n",
            "Requirement already satisfied: cffi>=1.0 in /usr/local/lib/python3.7/dist-packages (from soundfile>=0.9.0->librosa) (1.14.5)\n",
            "Requirement already satisfied: packaging in /usr/local/lib/python3.7/dist-packages (from pooch>=1.0->librosa) (20.9)\n",
            "Requirement already satisfied: requests in /usr/local/lib/python3.7/dist-packages (from pooch>=1.0->librosa) (2.23.0)\n",
            "Requirement already satisfied: appdirs in /usr/local/lib/python3.7/dist-packages (from pooch>=1.0->librosa) (1.4.4)\n",
            "Requirement already satisfied: pycparser in /usr/local/lib/python3.7/dist-packages (from cffi>=1.0->soundfile>=0.9.0->librosa) (2.20)\n",
            "Requirement already satisfied: pyparsing>=2.0.2 in /usr/local/lib/python3.7/dist-packages (from packaging->pooch>=1.0->librosa) (2.4.7)\n",
            "Requirement already satisfied: chardet<4,>=3.0.2 in /usr/local/lib/python3.7/dist-packages (from requests->pooch>=1.0->librosa) (3.0.4)\n",
            "Requirement already satisfied: urllib3!=1.25.0,!=1.25.1,<1.26,>=1.21.1 in /usr/local/lib/python3.7/dist-packages (from requests->pooch>=1.0->librosa) (1.24.3)\n",
            "Requirement already satisfied: certifi>=2017.4.17 in /usr/local/lib/python3.7/dist-packages (from requests->pooch>=1.0->librosa) (2020.12.5)\n",
            "Requirement already satisfied: idna<3,>=2.5 in /usr/local/lib/python3.7/dist-packages (from requests->pooch>=1.0->librosa) (2.10)\n"
          ],
          "name": "stdout"
        }
      ]
    },
    {
      "cell_type": "code",
      "metadata": {
        "id": "FUNNYg6MyysZ",
        "colab": {
          "base_uri": "https://localhost:8080/"
        },
        "outputId": "b0cff6ce-c9c6-4ef5-f88f-e9b0297a497f"
      },
      "source": [
        "from google.colab import drive\n",
        "drive.mount(\"/drive/\")"
      ],
      "execution_count": 2,
      "outputs": [
        {
          "output_type": "stream",
          "text": [
            "Mounted at /drive/\n"
          ],
          "name": "stdout"
        }
      ]
    },
    {
      "cell_type": "code",
      "metadata": {
        "id": "OULeLNo8y1la"
      },
      "source": [
        "dirname = '/drive/My Drive/berlin db'"
      ],
      "execution_count": 4,
      "outputs": []
    },
    {
      "cell_type": "code",
      "metadata": {
        "id": "SnzFQpY_Xyrc"
      },
      "source": [
        "import librosa\n",
        "from librosa import display\n",
        "import sklearn\n",
        "import pandas as pd\n",
        "import os\n",
        "import glob \n",
        "import numpy as np"
      ],
      "execution_count": 5,
      "outputs": []
    },
    {
      "cell_type": "code",
      "metadata": {
        "id": "N9s7ARoLX-ow"
      },
      "source": [
        "#data, sampling_rate = librosa.load( ФАЙЛ СЮДА)"
      ],
      "execution_count": 6,
      "outputs": []
    },
    {
      "cell_type": "code",
      "metadata": {
        "id": "R9db0_0zhueF"
      },
      "source": [
        "lst= []\n",
        "for subdir, dirs, files in os.walk(dirname):\n",
        "  for file in files:\n",
        "    try:\n",
        "      X,sample_rate = librosa.load(os.path.join(subdir,file),res_type='kaiser_fast')\n",
        "      mfccs = np.mean (librosa.feature.mfcc(y=X, sr=sample_rate, n_mfcc=40).T, axis=0)\n",
        "      if file[3]=='sa' or file[3]=='su':\n",
        "        file = file[3:5]\n",
        "      else:\n",
        "        file = file[3]\n",
        "      arr= mfccs,file\n",
        "      lst.append(arr)\n",
        "    except ValueError:\n",
        "      continue"
      ],
      "execution_count": 7,
      "outputs": []
    },
    {
      "cell_type": "code",
      "metadata": {
        "id": "8FGRdS8nkFs3"
      },
      "source": [
        "X,y = zip(*lst)"
      ],
      "execution_count": 8,
      "outputs": []
    },
    {
      "cell_type": "code",
      "metadata": {
        "id": "FptiVnYakXcJ",
        "colab": {
          "base_uri": "https://localhost:8080/"
        },
        "outputId": "25a914a0-6694-4a68-b69f-6e0e0eb855b7"
      },
      "source": [
        "X = np.asarray(X)\n",
        "y = np.asarray(y)\n",
        "X.shape, y.shape"
      ],
      "execution_count": 9,
      "outputs": [
        {
          "output_type": "execute_result",
          "data": {
            "text/plain": [
              "((535, 40), (535,))"
            ]
          },
          "metadata": {
            "tags": []
          },
          "execution_count": 9
        }
      ]
    },
    {
      "cell_type": "code",
      "metadata": {
        "id": "VsbB3hsBhBjt"
      },
      "source": [
        "X_ = pd.DataFrame(data=X)\n",
        "Y_= pd.DataFrame(data=y)"
      ],
      "execution_count": 11,
      "outputs": []
    },
    {
      "cell_type": "code",
      "metadata": {
        "colab": {
          "base_uri": "https://localhost:8080/"
        },
        "id": "9jY7kf8rhpYH",
        "outputId": "45567c2b-6451-4b3c-c2df-d1d80637dd06"
      },
      "source": [
        "print(X_)"
      ],
      "execution_count": 13,
      "outputs": [
        {
          "output_type": "stream",
          "text": [
            "             0           1          2   ...        37        38        39\n",
            "0   -228.341934   72.291046 -86.281944  ... -0.110308  0.724302  1.438687\n",
            "1   -244.960663  103.737282 -46.709778  ... -0.993179 -1.077398 -0.459825\n",
            "2   -317.613495   77.964516 -75.800743  ...  1.058134 -1.909912 -1.350667\n",
            "3   -236.031219   98.371170 -69.763718  ...  3.020619  1.185659 -0.548497\n",
            "4   -291.480621  126.001144 -54.776287  ... -0.789213 -2.046571 -1.820111\n",
            "..          ...         ...        ...  ...       ...       ...       ...\n",
            "530 -207.924301   78.814148 -48.295242  ...  1.610538  2.966975  4.417836\n",
            "531 -243.780609   80.997726 -44.823402  ...  5.715632  4.330856  3.008775\n",
            "532 -347.895966   58.946327 -73.718117  ...  1.741202  1.733782  2.096647\n",
            "533 -223.836884   90.293091 -37.966293  ...  2.053149  0.257490  0.309673\n",
            "534 -274.562164   73.141602 -16.817419  ...  6.865293  5.738996  2.602643\n",
            "\n",
            "[535 rows x 40 columns]\n"
          ],
          "name": "stdout"
        }
      ]
    },
    {
      "cell_type": "code",
      "metadata": {
        "colab": {
          "base_uri": "https://localhost:8080/"
        },
        "id": "CXScRrxFhk0H",
        "outputId": "e147b7ae-81e6-4fe1-ad73-1761e01bf1ea"
      },
      "source": [
        "print(Y_)"
      ],
      "execution_count": 14,
      "outputs": [
        {
          "output_type": "stream",
          "text": [
            "     0\n",
            "0    0\n",
            "1    0\n",
            "2    0\n",
            "3    0\n",
            "4    0\n",
            "..  ..\n",
            "530  0\n",
            "531  0\n",
            "532  0\n",
            "533  0\n",
            "534  0\n",
            "\n",
            "[535 rows x 1 columns]\n"
          ],
          "name": "stdout"
        }
      ]
    },
    {
      "cell_type": "code",
      "metadata": {
        "colab": {
          "base_uri": "https://localhost:8080/",
          "height": 222
        },
        "id": "MmNx3IGNbrGz",
        "outputId": "0bc7c439-54f7-424f-c150-7e45aff69817"
      },
      "source": [
        "result = pd.concat([Y_,X_], axis=1, ignore_index=True)\n",
        "result.head()"
      ],
      "execution_count": 15,
      "outputs": [
        {
          "output_type": "execute_result",
          "data": {
            "text/html": [
              "<div>\n",
              "<style scoped>\n",
              "    .dataframe tbody tr th:only-of-type {\n",
              "        vertical-align: middle;\n",
              "    }\n",
              "\n",
              "    .dataframe tbody tr th {\n",
              "        vertical-align: top;\n",
              "    }\n",
              "\n",
              "    .dataframe thead th {\n",
              "        text-align: right;\n",
              "    }\n",
              "</style>\n",
              "<table border=\"1\" class=\"dataframe\">\n",
              "  <thead>\n",
              "    <tr style=\"text-align: right;\">\n",
              "      <th></th>\n",
              "      <th>0</th>\n",
              "      <th>1</th>\n",
              "      <th>2</th>\n",
              "      <th>3</th>\n",
              "      <th>4</th>\n",
              "      <th>5</th>\n",
              "      <th>6</th>\n",
              "      <th>7</th>\n",
              "      <th>8</th>\n",
              "      <th>9</th>\n",
              "      <th>10</th>\n",
              "      <th>11</th>\n",
              "      <th>12</th>\n",
              "      <th>13</th>\n",
              "      <th>14</th>\n",
              "      <th>15</th>\n",
              "      <th>16</th>\n",
              "      <th>17</th>\n",
              "      <th>18</th>\n",
              "      <th>19</th>\n",
              "      <th>20</th>\n",
              "      <th>21</th>\n",
              "      <th>22</th>\n",
              "      <th>23</th>\n",
              "      <th>24</th>\n",
              "      <th>25</th>\n",
              "      <th>26</th>\n",
              "      <th>27</th>\n",
              "      <th>28</th>\n",
              "      <th>29</th>\n",
              "      <th>30</th>\n",
              "      <th>31</th>\n",
              "      <th>32</th>\n",
              "      <th>33</th>\n",
              "      <th>34</th>\n",
              "      <th>35</th>\n",
              "      <th>36</th>\n",
              "      <th>37</th>\n",
              "      <th>38</th>\n",
              "      <th>39</th>\n",
              "      <th>40</th>\n",
              "    </tr>\n",
              "  </thead>\n",
              "  <tbody>\n",
              "    <tr>\n",
              "      <th>0</th>\n",
              "      <td>0</td>\n",
              "      <td>-228.341934</td>\n",
              "      <td>72.291046</td>\n",
              "      <td>-86.281944</td>\n",
              "      <td>35.573959</td>\n",
              "      <td>-45.013847</td>\n",
              "      <td>9.084922</td>\n",
              "      <td>-22.116369</td>\n",
              "      <td>-7.248465</td>\n",
              "      <td>-6.220524</td>\n",
              "      <td>-19.505175</td>\n",
              "      <td>-0.960370</td>\n",
              "      <td>-16.618830</td>\n",
              "      <td>1.155036</td>\n",
              "      <td>-6.694911</td>\n",
              "      <td>6.861384</td>\n",
              "      <td>3.023114</td>\n",
              "      <td>12.101799</td>\n",
              "      <td>16.336405</td>\n",
              "      <td>-0.816362</td>\n",
              "      <td>5.351477</td>\n",
              "      <td>0.478905</td>\n",
              "      <td>5.703646</td>\n",
              "      <td>4.788605</td>\n",
              "      <td>5.966914</td>\n",
              "      <td>-0.459323</td>\n",
              "      <td>-2.990561</td>\n",
              "      <td>0.671134</td>\n",
              "      <td>0.036458</td>\n",
              "      <td>2.041339</td>\n",
              "      <td>-1.745802</td>\n",
              "      <td>3.674132</td>\n",
              "      <td>3.847192</td>\n",
              "      <td>2.639743</td>\n",
              "      <td>0.267082</td>\n",
              "      <td>0.241549</td>\n",
              "      <td>1.117174</td>\n",
              "      <td>-1.394378</td>\n",
              "      <td>-0.110308</td>\n",
              "      <td>0.724302</td>\n",
              "      <td>1.438687</td>\n",
              "    </tr>\n",
              "    <tr>\n",
              "      <th>1</th>\n",
              "      <td>0</td>\n",
              "      <td>-244.960663</td>\n",
              "      <td>103.737282</td>\n",
              "      <td>-46.709778</td>\n",
              "      <td>37.669445</td>\n",
              "      <td>-29.396229</td>\n",
              "      <td>24.622721</td>\n",
              "      <td>-22.629322</td>\n",
              "      <td>-11.495511</td>\n",
              "      <td>0.063414</td>\n",
              "      <td>-17.077015</td>\n",
              "      <td>2.548406</td>\n",
              "      <td>-6.601529</td>\n",
              "      <td>-1.734473</td>\n",
              "      <td>-5.916827</td>\n",
              "      <td>3.969255</td>\n",
              "      <td>-15.162206</td>\n",
              "      <td>-6.273880</td>\n",
              "      <td>0.527937</td>\n",
              "      <td>-11.648152</td>\n",
              "      <td>2.177778</td>\n",
              "      <td>1.232998</td>\n",
              "      <td>6.537111</td>\n",
              "      <td>4.661454</td>\n",
              "      <td>10.538456</td>\n",
              "      <td>11.840444</td>\n",
              "      <td>8.212301</td>\n",
              "      <td>9.774154</td>\n",
              "      <td>7.678903</td>\n",
              "      <td>9.166143</td>\n",
              "      <td>3.143618</td>\n",
              "      <td>3.841101</td>\n",
              "      <td>3.084623</td>\n",
              "      <td>1.045359</td>\n",
              "      <td>2.930665</td>\n",
              "      <td>3.325513</td>\n",
              "      <td>2.829773</td>\n",
              "      <td>0.241563</td>\n",
              "      <td>-0.993179</td>\n",
              "      <td>-1.077398</td>\n",
              "      <td>-0.459825</td>\n",
              "    </tr>\n",
              "    <tr>\n",
              "      <th>2</th>\n",
              "      <td>0</td>\n",
              "      <td>-317.613495</td>\n",
              "      <td>77.964516</td>\n",
              "      <td>-75.800743</td>\n",
              "      <td>45.459934</td>\n",
              "      <td>-44.301662</td>\n",
              "      <td>16.717661</td>\n",
              "      <td>-25.175247</td>\n",
              "      <td>-10.396054</td>\n",
              "      <td>-2.193984</td>\n",
              "      <td>-15.893023</td>\n",
              "      <td>3.315178</td>\n",
              "      <td>-10.978617</td>\n",
              "      <td>2.945383</td>\n",
              "      <td>-9.435846</td>\n",
              "      <td>-0.931071</td>\n",
              "      <td>-12.623302</td>\n",
              "      <td>-5.176109</td>\n",
              "      <td>1.508305</td>\n",
              "      <td>-3.422725</td>\n",
              "      <td>13.840384</td>\n",
              "      <td>10.036343</td>\n",
              "      <td>10.361580</td>\n",
              "      <td>7.013400</td>\n",
              "      <td>10.034327</td>\n",
              "      <td>6.201591</td>\n",
              "      <td>6.347164</td>\n",
              "      <td>5.545530</td>\n",
              "      <td>3.895535</td>\n",
              "      <td>4.852948</td>\n",
              "      <td>-1.394594</td>\n",
              "      <td>2.427273</td>\n",
              "      <td>-0.142525</td>\n",
              "      <td>1.155723</td>\n",
              "      <td>-0.151529</td>\n",
              "      <td>-0.944676</td>\n",
              "      <td>-0.289030</td>\n",
              "      <td>-0.575221</td>\n",
              "      <td>1.058134</td>\n",
              "      <td>-1.909912</td>\n",
              "      <td>-1.350667</td>\n",
              "    </tr>\n",
              "    <tr>\n",
              "      <th>3</th>\n",
              "      <td>0</td>\n",
              "      <td>-236.031219</td>\n",
              "      <td>98.371170</td>\n",
              "      <td>-69.763718</td>\n",
              "      <td>38.478413</td>\n",
              "      <td>-22.838850</td>\n",
              "      <td>8.979204</td>\n",
              "      <td>-13.368312</td>\n",
              "      <td>-9.825824</td>\n",
              "      <td>-9.202477</td>\n",
              "      <td>-9.854305</td>\n",
              "      <td>4.302949</td>\n",
              "      <td>-12.147238</td>\n",
              "      <td>2.761482</td>\n",
              "      <td>-7.477390</td>\n",
              "      <td>0.953241</td>\n",
              "      <td>-3.708987</td>\n",
              "      <td>-7.027302</td>\n",
              "      <td>-0.444048</td>\n",
              "      <td>-7.894135</td>\n",
              "      <td>-4.130747</td>\n",
              "      <td>-4.413131</td>\n",
              "      <td>-0.183898</td>\n",
              "      <td>-5.776920</td>\n",
              "      <td>-0.503310</td>\n",
              "      <td>1.514138</td>\n",
              "      <td>-1.476832</td>\n",
              "      <td>2.176158</td>\n",
              "      <td>-1.468371</td>\n",
              "      <td>0.193033</td>\n",
              "      <td>3.018370</td>\n",
              "      <td>4.966105</td>\n",
              "      <td>0.783588</td>\n",
              "      <td>0.553935</td>\n",
              "      <td>0.850555</td>\n",
              "      <td>0.480453</td>\n",
              "      <td>3.458095</td>\n",
              "      <td>2.369641</td>\n",
              "      <td>3.020619</td>\n",
              "      <td>1.185659</td>\n",
              "      <td>-0.548497</td>\n",
              "    </tr>\n",
              "    <tr>\n",
              "      <th>4</th>\n",
              "      <td>0</td>\n",
              "      <td>-291.480621</td>\n",
              "      <td>126.001144</td>\n",
              "      <td>-54.776287</td>\n",
              "      <td>44.369537</td>\n",
              "      <td>-15.479568</td>\n",
              "      <td>-8.542458</td>\n",
              "      <td>-3.939008</td>\n",
              "      <td>-1.768697</td>\n",
              "      <td>-23.222383</td>\n",
              "      <td>-6.206619</td>\n",
              "      <td>10.038188</td>\n",
              "      <td>-16.813200</td>\n",
              "      <td>2.276435</td>\n",
              "      <td>-4.781696</td>\n",
              "      <td>0.917384</td>\n",
              "      <td>-5.758445</td>\n",
              "      <td>-7.096720</td>\n",
              "      <td>1.332785</td>\n",
              "      <td>-7.849123</td>\n",
              "      <td>0.385087</td>\n",
              "      <td>-4.396211</td>\n",
              "      <td>-0.247892</td>\n",
              "      <td>-1.839953</td>\n",
              "      <td>-4.661735</td>\n",
              "      <td>-0.774366</td>\n",
              "      <td>-3.924490</td>\n",
              "      <td>-2.735914</td>\n",
              "      <td>-2.658870</td>\n",
              "      <td>-2.271216</td>\n",
              "      <td>-4.969137</td>\n",
              "      <td>-1.874449</td>\n",
              "      <td>-1.183285</td>\n",
              "      <td>-2.986231</td>\n",
              "      <td>-1.151088</td>\n",
              "      <td>-0.733136</td>\n",
              "      <td>-2.125716</td>\n",
              "      <td>-3.368592</td>\n",
              "      <td>-0.789213</td>\n",
              "      <td>-2.046571</td>\n",
              "      <td>-1.820111</td>\n",
              "    </tr>\n",
              "  </tbody>\n",
              "</table>\n",
              "</div>"
            ],
            "text/plain": [
              "  0           1           2          3   ...        37        38        39        40\n",
              "0  0 -228.341934   72.291046 -86.281944  ... -1.394378 -0.110308  0.724302  1.438687\n",
              "1  0 -244.960663  103.737282 -46.709778  ...  0.241563 -0.993179 -1.077398 -0.459825\n",
              "2  0 -317.613495   77.964516 -75.800743  ... -0.575221  1.058134 -1.909912 -1.350667\n",
              "3  0 -236.031219   98.371170 -69.763718  ...  2.369641  3.020619  1.185659 -0.548497\n",
              "4  0 -291.480621  126.001144 -54.776287  ... -3.368592 -0.789213 -2.046571 -1.820111\n",
              "\n",
              "[5 rows x 41 columns]"
            ]
          },
          "metadata": {
            "tags": []
          },
          "execution_count": 15
        }
      ]
    },
    {
      "cell_type": "code",
      "metadata": {
        "id": "AkolHsZhjHPy"
      },
      "source": [
        "#result.to_csv('/drive/My Drive/мага речевые технологии/cvs датасетов opensmile/librosa_savee.csv', index=False, header=False)"
      ],
      "execution_count": null,
      "outputs": []
    },
    {
      "cell_type": "code",
      "metadata": {
        "id": "8PY32EBOH_BA"
      },
      "source": [
        "import time"
      ],
      "execution_count": 16,
      "outputs": []
    },
    {
      "cell_type": "code",
      "metadata": {
        "id": "1gsqN3xAzQMn"
      },
      "source": [
        "#импорт всех моделей\n",
        "from sklearn.linear_model import LogisticRegression, RidgeClassifier, SGDClassifier, PassiveAggressiveClassifier, Perceptron\n",
        "\n",
        "from sklearn.svm import SVC\n",
        "\n",
        "from sklearn.neural_network import MLPClassifier\n",
        "from sklearn.neighbors import KNeighborsClassifier\n",
        "from sklearn.gaussian_process import GaussianProcessClassifier\n",
        "from sklearn.tree import DecisionTreeClassifier\n",
        "\n",
        "from sklearn.ensemble import RandomForestClassifier, AdaBoostClassifier, ExtraTreesClassifier, GradientBoostingClassifier\n",
        "from sklearn.naive_bayes import GaussianNB, MultinomialNB, BernoulliNB\n",
        "from sklearn.discriminant_analysis import QuadraticDiscriminantAnalysis"
      ],
      "execution_count": 17,
      "outputs": []
    },
    {
      "cell_type": "code",
      "metadata": {
        "id": "jdlxnz3THQAc"
      },
      "source": [
        "from sklearn.pipeline import Pipeline\n",
        "from sklearn.preprocessing import StandardScaler\n",
        "from sklearn.model_selection import train_test_split\n",
        "from sklearn.model_selection import cross_val_score"
      ],
      "execution_count": 18,
      "outputs": []
    },
    {
      "cell_type": "code",
      "metadata": {
        "colab": {
          "base_uri": "https://localhost:8080/"
        },
        "id": "A7sLgdJmHTCw",
        "outputId": "090d7108-2ec9-4d30-a050-9ea4d2432085"
      },
      "source": [
        "models = {\n",
        "  'log': LogisticRegression(),\n",
        "  'sgd': SGDClassifier(),\n",
        "  'ridge': RidgeClassifier(),\n",
        "  'pac': PassiveAggressiveClassifier(),\n",
        "  'perc': Perceptron(),\n",
        "\n",
        "  'linear_svc': SVC(kernel='linear'),\n",
        "  'rbf_svc': SVC(kernel='rbf'),\n",
        "  'poly_svc': SVC(kernel='poly'),\n",
        "\n",
        "  'mlp': MLPClassifier(),\n",
        "  'knn': KNeighborsClassifier(),\n",
        "  'gpc': GaussianProcessClassifier(),\n",
        "  'qda': QuadraticDiscriminantAnalysis(),\n",
        "\n",
        "  'gnb': GaussianNB(),\n",
        "  'bnb': BernoulliNB(),\n",
        "\n",
        "  'tree': DecisionTreeClassifier(),\n",
        "\n",
        "  'forest': RandomForestClassifier(),\n",
        "  'ada': AdaBoostClassifier(),\n",
        "  'extra': ExtraTreesClassifier(),\n",
        "  'gboost': GradientBoostingClassifier(),\n",
        "}\n",
        "print(len(models))"
      ],
      "execution_count": 19,
      "outputs": [
        {
          "output_type": "stream",
          "text": [
            "19\n"
          ],
          "name": "stdout"
        }
      ]
    },
    {
      "cell_type": "code",
      "metadata": {
        "id": "WG6FMItLHiAu"
      },
      "source": [
        "from sklearn.model_selection import train_test_split\n",
        "import sklearn.metrics\n",
        "from sklearn.metrics import accuracy_score\n",
        "from sklearn.metrics import precision_score\n",
        "from sklearn.metrics import recall_score\n",
        "\n",
        "def test_model(model, x, y):  \n",
        "  x_train, x_test, y_train, y_test = train_test_split(X,y, test_size=0.3, stratify = y)\n",
        "  \n",
        "  pipe = Pipeline([\n",
        "                 ('scaler', StandardScaler()), \n",
        "                 ('cls', models[model])\n",
        "                 ])\n",
        "  start_time = time.time()\n",
        "  pipe.fit(x_train, y_train)\n",
        "  time_fit=\"%s sec\" % (time.time() - start_time)\n",
        "  #fit для тестовой и тренировочной выборки\n",
        "  y_test_pred =pipe.predict(x_test)\n",
        "  y_train_pred =pipe.predict(x_train)\n",
        "  #accuracy для предсказанных значений по test и train\n",
        "  acc_test = accuracy_score(y_test, y_test_pred)\n",
        "  acc_train = accuracy_score(y_train, y_train_pred)\n",
        "  prec_test = precision_score(y_test, y_test_pred, average=None).mean()\n",
        "  recall_test = recall_score(y_test, y_test_pred, average=None).mean()\n",
        "  #precision & recall для test\n",
        "  #prec_test = precision_score(y_test, y_test_pred)\n",
        "  #recall_test = recall_score(y_test, y_test_pred, average='macro')\n",
        "\n",
        "\n",
        "  \n",
        "\n",
        "  \n",
        "  scores = cross_val_score(pipe, x, y, cv=5).mean()\n",
        "\n",
        "  return {\n",
        "      \"MODEL\": model,\n",
        "      \"SCORE\":scores,\n",
        "      \"ACCURACY TRAIN\":acc_train,\n",
        "      \"ACCURACY TEST\":acc_test,\n",
        "      \"PRECISION TEST\":prec_test,\n",
        "      \"RECALL TEST\":recall_test,\n",
        "      \"TIME FOR FIT\":time_fit \n",
        "      }"
      ],
      "execution_count": 20,
      "outputs": []
    },
    {
      "cell_type": "code",
      "metadata": {
        "colab": {
          "base_uri": "https://localhost:8080/"
        },
        "id": "u4S09w8lHtLM",
        "outputId": "333ed8e5-f1be-42ba-b5d2-77d6417aba1e"
      },
      "source": [
        "test_model('forest', X, y)"
      ],
      "execution_count": 21,
      "outputs": [
        {
          "output_type": "stream",
          "text": [
            "/usr/local/lib/python3.7/dist-packages/sklearn/metrics/_classification.py:1272: UndefinedMetricWarning: Precision is ill-defined and being set to 0.0 in labels with no predicted samples. Use `zero_division` parameter to control this behavior.\n",
            "  _warn_prf(average, modifier, msg_start, len(result))\n"
          ],
          "name": "stderr"
        },
        {
          "output_type": "execute_result",
          "data": {
            "text/plain": [
              "{'ACCURACY TEST': 0.9006211180124224,\n",
              " 'ACCURACY TRAIN': 1.0,\n",
              " 'MODEL': 'forest',\n",
              " 'PRECISION TEST': 0.4503105590062112,\n",
              " 'RECALL TEST': 0.5,\n",
              " 'SCORE': 0.8990654205607477,\n",
              " 'TIME FOR FIT': '0.3978126049041748 sec'}"
            ]
          },
          "metadata": {
            "tags": []
          },
          "execution_count": 21
        }
      ]
    },
    {
      "cell_type": "code",
      "metadata": {
        "colab": {
          "base_uri": "https://localhost:8080/"
        },
        "id": "KWPKOp2CImjk",
        "outputId": "ff7ffc59-0e1c-4183-aa52-ea9c1f8478c7"
      },
      "source": [
        "for name, model in models.items():\n",
        "  res = test_model(name, X, y)\n",
        "  #table=pd.DataFrame.from_dict(res)\n",
        "  print(name, res)"
      ],
      "execution_count": 22,
      "outputs": [
        {
          "output_type": "stream",
          "text": [
            "log {'MODEL': 'log', 'SCORE': 0.8411214953271028, 'ACCURACY TRAIN': 0.9144385026737968, 'ACCURACY TEST': 0.9006211180124224, 'PRECISION TEST': 0.7054140127388535, 'RECALL TEST': 0.555603448275862, 'TIME FOR FIT': '0.05456948280334473 sec'}\n",
            "sgd {'MODEL': 'sgd', 'SCORE': 0.805607476635514, 'ACCURACY TRAIN': 0.9278074866310161, 'ACCURACY TEST': 0.8757763975155279, 'PRECISION TEST': 0.606953642384106, 'RECALL TEST': 0.5696120689655173, 'TIME FOR FIT': '0.007169008255004883 sec'}\n"
          ],
          "name": "stdout"
        },
        {
          "output_type": "stream",
          "text": [
            "/usr/local/lib/python3.7/dist-packages/sklearn/metrics/_classification.py:1272: UndefinedMetricWarning: Precision is ill-defined and being set to 0.0 in labels with no predicted samples. Use `zero_division` parameter to control this behavior.\n",
            "  _warn_prf(average, modifier, msg_start, len(result))\n"
          ],
          "name": "stderr"
        },
        {
          "output_type": "stream",
          "text": [
            "ridge {'MODEL': 'ridge', 'SCORE': 0.8915887850467291, 'ACCURACY TRAIN': 0.9090909090909091, 'ACCURACY TEST': 0.9006211180124224, 'PRECISION TEST': 0.4503105590062112, 'RECALL TEST': 0.5, 'TIME FOR FIT': '0.05728769302368164 sec'}\n",
            "pac {'MODEL': 'pac', 'SCORE': 0.7700934579439251, 'ACCURACY TRAIN': 0.8743315508021391, 'ACCURACY TEST': 0.84472049689441, 'PRECISION TEST': 0.5759803921568627, 'RECALL TEST': 0.5801724137931035, 'TIME FOR FIT': '0.012067317962646484 sec'}\n",
            "perc {'MODEL': 'perc', 'SCORE': 0.7700934579439253, 'ACCURACY TRAIN': 0.9010695187165776, 'ACCURACY TEST': 0.8385093167701864, 'PRECISION TEST': 0.5859929078014184, 'RECALL TEST': 0.6045258620689655, 'TIME FOR FIT': '0.004138946533203125 sec'}\n"
          ],
          "name": "stdout"
        },
        {
          "output_type": "stream",
          "text": [
            "/usr/local/lib/python3.7/dist-packages/sklearn/metrics/_classification.py:1272: UndefinedMetricWarning: Precision is ill-defined and being set to 0.0 in labels with no predicted samples. Use `zero_division` parameter to control this behavior.\n",
            "  _warn_prf(average, modifier, msg_start, len(result))\n",
            "/usr/local/lib/python3.7/dist-packages/sklearn/metrics/_classification.py:1272: UndefinedMetricWarning: Precision is ill-defined and being set to 0.0 in labels with no predicted samples. Use `zero_division` parameter to control this behavior.\n",
            "  _warn_prf(average, modifier, msg_start, len(result))\n"
          ],
          "name": "stderr"
        },
        {
          "output_type": "stream",
          "text": [
            "linear_svc {'MODEL': 'linear_svc', 'SCORE': 0.8261682242990653, 'ACCURACY TRAIN': 0.9037433155080213, 'ACCURACY TEST': 0.9006211180124224, 'PRECISION TEST': 0.4503105590062112, 'RECALL TEST': 0.5, 'TIME FOR FIT': '0.07249879837036133 sec'}\n",
            "rbf_svc {'MODEL': 'rbf_svc', 'SCORE': 0.9028037383177571, 'ACCURACY TRAIN': 0.9037433155080213, 'ACCURACY TEST': 0.9006211180124224, 'PRECISION TEST': 0.4503105590062112, 'RECALL TEST': 0.5, 'TIME FOR FIT': '0.00868368148803711 sec'}\n",
            "poly_svc {'MODEL': 'poly_svc', 'SCORE': 0.8878504672897197, 'ACCURACY TRAIN': 0.93048128342246, 'ACCURACY TEST': 0.8819875776397516, 'PRECISION TEST': 0.44936708860759494, 'RECALL TEST': 0.4896551724137931, 'TIME FOR FIT': '0.008612394332885742 sec'}\n"
          ],
          "name": "stdout"
        },
        {
          "output_type": "stream",
          "text": [
            "/usr/local/lib/python3.7/dist-packages/sklearn/neural_network/_multilayer_perceptron.py:571: ConvergenceWarning: Stochastic Optimizer: Maximum iterations (200) reached and the optimization hasn't converged yet.\n",
            "  % self.max_iter, ConvergenceWarning)\n",
            "/usr/local/lib/python3.7/dist-packages/sklearn/neural_network/_multilayer_perceptron.py:571: ConvergenceWarning: Stochastic Optimizer: Maximum iterations (200) reached and the optimization hasn't converged yet.\n",
            "  % self.max_iter, ConvergenceWarning)\n",
            "/usr/local/lib/python3.7/dist-packages/sklearn/neural_network/_multilayer_perceptron.py:571: ConvergenceWarning: Stochastic Optimizer: Maximum iterations (200) reached and the optimization hasn't converged yet.\n",
            "  % self.max_iter, ConvergenceWarning)\n",
            "/usr/local/lib/python3.7/dist-packages/sklearn/neural_network/_multilayer_perceptron.py:571: ConvergenceWarning: Stochastic Optimizer: Maximum iterations (200) reached and the optimization hasn't converged yet.\n",
            "  % self.max_iter, ConvergenceWarning)\n",
            "/usr/local/lib/python3.7/dist-packages/sklearn/neural_network/_multilayer_perceptron.py:571: ConvergenceWarning: Stochastic Optimizer: Maximum iterations (200) reached and the optimization hasn't converged yet.\n",
            "  % self.max_iter, ConvergenceWarning)\n",
            "/usr/local/lib/python3.7/dist-packages/sklearn/neural_network/_multilayer_perceptron.py:571: ConvergenceWarning: Stochastic Optimizer: Maximum iterations (200) reached and the optimization hasn't converged yet.\n",
            "  % self.max_iter, ConvergenceWarning)\n"
          ],
          "name": "stderr"
        },
        {
          "output_type": "stream",
          "text": [
            "mlp {'MODEL': 'mlp', 'SCORE': 0.8074766355140186, 'ACCURACY TRAIN': 0.9919786096256684, 'ACCURACY TEST': 0.8944099378881988, 'PRECISION TEST': 0.6551282051282051, 'RECALL TEST': 0.5521551724137931, 'TIME FOR FIT': '0.8402073383331299 sec'}\n",
            "knn {'MODEL': 'knn', 'SCORE': 0.8953271028037383, 'ACCURACY TRAIN': 0.9117647058823529, 'ACCURACY TEST': 0.8819875776397516, 'PRECISION TEST': 0.44936708860759494, 'RECALL TEST': 0.4896551724137931, 'TIME FOR FIT': '0.0146942138671875 sec'}\n",
            "gpc {'MODEL': 'gpc', 'SCORE': 0.8485981308411216, 'ACCURACY TRAIN': 1.0, 'ACCURACY TEST': 0.8385093167701864, 'PRECISION TEST': 0.49133109619686804, 'RECALL TEST': 0.49331896551724136, 'TIME FOR FIT': '0.16550540924072266 sec'}\n",
            "qda {'MODEL': 'qda', 'SCORE': 0.9028037383177571, 'ACCURACY TRAIN': 1.0, 'ACCURACY TEST': 0.9006211180124224, 'PRECISION TEST': 0.4503105590062112, 'RECALL TEST': 0.5, 'TIME FOR FIT': '0.039699554443359375 sec'}\n",
            "gnb {'MODEL': 'gnb', 'SCORE': 0.8, 'ACCURACY TRAIN': 0.8556149732620321, 'ACCURACY TEST': 0.7763975155279503, 'PRECISION TEST': 0.4687704381948986, 'RECALL TEST': 0.45883620689655175, 'TIME FOR FIT': '0.0027840137481689453 sec'}\n"
          ],
          "name": "stdout"
        },
        {
          "output_type": "stream",
          "text": [
            "/usr/local/lib/python3.7/dist-packages/sklearn/discriminant_analysis.py:691: UserWarning: Variables are collinear\n",
            "  warnings.warn(\"Variables are collinear\")\n",
            "/usr/local/lib/python3.7/dist-packages/sklearn/metrics/_classification.py:1272: UndefinedMetricWarning: Precision is ill-defined and being set to 0.0 in labels with no predicted samples. Use `zero_division` parameter to control this behavior.\n",
            "  _warn_prf(average, modifier, msg_start, len(result))\n"
          ],
          "name": "stderr"
        },
        {
          "output_type": "stream",
          "text": [
            "bnb {'MODEL': 'bnb', 'SCORE': 0.874766355140187, 'ACCURACY TRAIN': 0.9090909090909091, 'ACCURACY TEST': 0.906832298136646, 'PRECISION TEST': 0.953125, 'RECALL TEST': 0.53125, 'TIME FOR FIT': '0.0036783218383789062 sec'}\n",
            "tree {'MODEL': 'tree', 'SCORE': 0.7813084112149532, 'ACCURACY TRAIN': 1.0, 'ACCURACY TEST': 0.8260869565217391, 'PRECISION TEST': 0.5142241379310345, 'RECALL TEST': 0.5142241379310345, 'TIME FOR FIT': '0.020038366317749023 sec'}\n"
          ],
          "name": "stdout"
        },
        {
          "output_type": "stream",
          "text": [
            "/usr/local/lib/python3.7/dist-packages/sklearn/metrics/_classification.py:1272: UndefinedMetricWarning: Precision is ill-defined and being set to 0.0 in labels with no predicted samples. Use `zero_division` parameter to control this behavior.\n",
            "  _warn_prf(average, modifier, msg_start, len(result))\n"
          ],
          "name": "stderr"
        },
        {
          "output_type": "stream",
          "text": [
            "forest {'MODEL': 'forest', 'SCORE': 0.8990654205607477, 'ACCURACY TRAIN': 1.0, 'ACCURACY TEST': 0.9006211180124224, 'PRECISION TEST': 0.4503105590062112, 'RECALL TEST': 0.5, 'TIME FOR FIT': '0.40036487579345703 sec'}\n",
            "ada {'MODEL': 'ada', 'SCORE': 0.8448598130841122, 'ACCURACY TRAIN': 0.9946524064171123, 'ACCURACY TEST': 0.84472049689441, 'PRECISION TEST': 0.5296257796257796, 'RECALL TEST': 0.5245689655172414, 'TIME FOR FIT': '0.21439623832702637 sec'}\n",
            "extra {'MODEL': 'extra', 'SCORE': 0.9028037383177571, 'ACCURACY TRAIN': 1.0, 'ACCURACY TEST': 0.8944099378881988, 'PRECISION TEST': 0.45, 'RECALL TEST': 0.496551724137931, 'TIME FOR FIT': '0.18318843841552734 sec'}\n",
            "gboost {'MODEL': 'gboost', 'SCORE': 0.8485981308411216, 'ACCURACY TRAIN': 1.0, 'ACCURACY TEST': 0.9006211180124224, 'PRECISION TEST': 0.7028301886792453, 'RECALL TEST': 0.527801724137931, 'TIME FOR FIT': '0.5493454933166504 sec'}\n"
          ],
          "name": "stdout"
        }
      ]
    },
    {
      "cell_type": "code",
      "metadata": {
        "colab": {
          "base_uri": "https://localhost:8080/",
          "height": 638
        },
        "id": "72-E5GeBIuoy",
        "outputId": "dd5445ea-227c-4edb-da26-69547f8ca7a4"
      },
      "source": [
        "table = pd.DataFrame()\n",
        "for name, _ in models.items():\n",
        "  res = pd.DataFrame(test_model(name, X, y), index=[name, ])\n",
        "  table = pd.concat([table, res], axis=0)\n",
        "table.head()"
      ],
      "execution_count": 23,
      "outputs": [
        {
          "output_type": "stream",
          "text": [
            "/usr/local/lib/python3.7/dist-packages/sklearn/metrics/_classification.py:1272: UndefinedMetricWarning: Precision is ill-defined and being set to 0.0 in labels with no predicted samples. Use `zero_division` parameter to control this behavior.\n",
            "  _warn_prf(average, modifier, msg_start, len(result))\n",
            "/usr/local/lib/python3.7/dist-packages/sklearn/metrics/_classification.py:1272: UndefinedMetricWarning: Precision is ill-defined and being set to 0.0 in labels with no predicted samples. Use `zero_division` parameter to control this behavior.\n",
            "  _warn_prf(average, modifier, msg_start, len(result))\n",
            "/usr/local/lib/python3.7/dist-packages/sklearn/neural_network/_multilayer_perceptron.py:571: ConvergenceWarning: Stochastic Optimizer: Maximum iterations (200) reached and the optimization hasn't converged yet.\n",
            "  % self.max_iter, ConvergenceWarning)\n",
            "/usr/local/lib/python3.7/dist-packages/sklearn/neural_network/_multilayer_perceptron.py:571: ConvergenceWarning: Stochastic Optimizer: Maximum iterations (200) reached and the optimization hasn't converged yet.\n",
            "  % self.max_iter, ConvergenceWarning)\n",
            "/usr/local/lib/python3.7/dist-packages/sklearn/neural_network/_multilayer_perceptron.py:571: ConvergenceWarning: Stochastic Optimizer: Maximum iterations (200) reached and the optimization hasn't converged yet.\n",
            "  % self.max_iter, ConvergenceWarning)\n",
            "/usr/local/lib/python3.7/dist-packages/sklearn/neural_network/_multilayer_perceptron.py:571: ConvergenceWarning: Stochastic Optimizer: Maximum iterations (200) reached and the optimization hasn't converged yet.\n",
            "  % self.max_iter, ConvergenceWarning)\n",
            "/usr/local/lib/python3.7/dist-packages/sklearn/neural_network/_multilayer_perceptron.py:571: ConvergenceWarning: Stochastic Optimizer: Maximum iterations (200) reached and the optimization hasn't converged yet.\n",
            "  % self.max_iter, ConvergenceWarning)\n",
            "/usr/local/lib/python3.7/dist-packages/sklearn/neural_network/_multilayer_perceptron.py:571: ConvergenceWarning: Stochastic Optimizer: Maximum iterations (200) reached and the optimization hasn't converged yet.\n",
            "  % self.max_iter, ConvergenceWarning)\n",
            "/usr/local/lib/python3.7/dist-packages/sklearn/discriminant_analysis.py:691: UserWarning: Variables are collinear\n",
            "  warnings.warn(\"Variables are collinear\")\n",
            "/usr/local/lib/python3.7/dist-packages/sklearn/metrics/_classification.py:1272: UndefinedMetricWarning: Precision is ill-defined and being set to 0.0 in labels with no predicted samples. Use `zero_division` parameter to control this behavior.\n",
            "  _warn_prf(average, modifier, msg_start, len(result))\n",
            "/usr/local/lib/python3.7/dist-packages/sklearn/metrics/_classification.py:1272: UndefinedMetricWarning: Precision is ill-defined and being set to 0.0 in labels with no predicted samples. Use `zero_division` parameter to control this behavior.\n",
            "  _warn_prf(average, modifier, msg_start, len(result))\n",
            "/usr/local/lib/python3.7/dist-packages/sklearn/metrics/_classification.py:1272: UndefinedMetricWarning: Precision is ill-defined and being set to 0.0 in labels with no predicted samples. Use `zero_division` parameter to control this behavior.\n",
            "  _warn_prf(average, modifier, msg_start, len(result))\n"
          ],
          "name": "stderr"
        },
        {
          "output_type": "execute_result",
          "data": {
            "text/html": [
              "<div>\n",
              "<style scoped>\n",
              "    .dataframe tbody tr th:only-of-type {\n",
              "        vertical-align: middle;\n",
              "    }\n",
              "\n",
              "    .dataframe tbody tr th {\n",
              "        vertical-align: top;\n",
              "    }\n",
              "\n",
              "    .dataframe thead th {\n",
              "        text-align: right;\n",
              "    }\n",
              "</style>\n",
              "<table border=\"1\" class=\"dataframe\">\n",
              "  <thead>\n",
              "    <tr style=\"text-align: right;\">\n",
              "      <th></th>\n",
              "      <th>MODEL</th>\n",
              "      <th>SCORE</th>\n",
              "      <th>ACCURACY TRAIN</th>\n",
              "      <th>ACCURACY TEST</th>\n",
              "      <th>PRECISION TEST</th>\n",
              "      <th>RECALL TEST</th>\n",
              "      <th>TIME FOR FIT</th>\n",
              "    </tr>\n",
              "  </thead>\n",
              "  <tbody>\n",
              "    <tr>\n",
              "      <th>log</th>\n",
              "      <td>log</td>\n",
              "      <td>0.841121</td>\n",
              "      <td>0.925134</td>\n",
              "      <td>0.844720</td>\n",
              "      <td>0.495455</td>\n",
              "      <td>0.496767</td>\n",
              "      <td>0.04922938346862793 sec</td>\n",
              "    </tr>\n",
              "    <tr>\n",
              "      <th>sgd</th>\n",
              "      <td>sgd</td>\n",
              "      <td>0.794393</td>\n",
              "      <td>0.914439</td>\n",
              "      <td>0.844720</td>\n",
              "      <td>0.575980</td>\n",
              "      <td>0.580172</td>\n",
              "      <td>0.004396200180053711 sec</td>\n",
              "    </tr>\n",
              "    <tr>\n",
              "      <th>ridge</th>\n",
              "      <td>ridge</td>\n",
              "      <td>0.891589</td>\n",
              "      <td>0.909091</td>\n",
              "      <td>0.900621</td>\n",
              "      <td>0.450311</td>\n",
              "      <td>0.500000</td>\n",
              "      <td>0.011863946914672852 sec</td>\n",
              "    </tr>\n",
              "    <tr>\n",
              "      <th>pac</th>\n",
              "      <td>pac</td>\n",
              "      <td>0.790654</td>\n",
              "      <td>0.847594</td>\n",
              "      <td>0.832298</td>\n",
              "      <td>0.563010</td>\n",
              "      <td>0.573276</td>\n",
              "      <td>0.008141756057739258 sec</td>\n",
              "    </tr>\n",
              "    <tr>\n",
              "      <th>perc</th>\n",
              "      <td>perc</td>\n",
              "      <td>0.770093</td>\n",
              "      <td>0.922460</td>\n",
              "      <td>0.857143</td>\n",
              "      <td>0.544242</td>\n",
              "      <td>0.531466</td>\n",
              "      <td>0.0045282840728759766 sec</td>\n",
              "    </tr>\n",
              "  </tbody>\n",
              "</table>\n",
              "</div>"
            ],
            "text/plain": [
              "       MODEL     SCORE  ...  RECALL TEST               TIME FOR FIT\n",
              "log      log  0.841121  ...     0.496767    0.04922938346862793 sec\n",
              "sgd      sgd  0.794393  ...     0.580172   0.004396200180053711 sec\n",
              "ridge  ridge  0.891589  ...     0.500000   0.011863946914672852 sec\n",
              "pac      pac  0.790654  ...     0.573276   0.008141756057739258 sec\n",
              "perc    perc  0.770093  ...     0.531466  0.0045282840728759766 sec\n",
              "\n",
              "[5 rows x 7 columns]"
            ]
          },
          "metadata": {
            "tags": []
          },
          "execution_count": 23
        }
      ]
    },
    {
      "cell_type": "code",
      "metadata": {
        "id": "LbNq9RQII0GL"
      },
      "source": [
        "table.drop('MODEL', axis=1, inplace=True)"
      ],
      "execution_count": 24,
      "outputs": []
    },
    {
      "cell_type": "code",
      "metadata": {
        "colab": {
          "base_uri": "https://localhost:8080/",
          "height": 632
        },
        "id": "WeeaHKUnI2Tv",
        "outputId": "304d93d9-a4fc-44bf-8840-94c56d218106"
      },
      "source": [
        "table"
      ],
      "execution_count": 25,
      "outputs": [
        {
          "output_type": "execute_result",
          "data": {
            "text/html": [
              "<div>\n",
              "<style scoped>\n",
              "    .dataframe tbody tr th:only-of-type {\n",
              "        vertical-align: middle;\n",
              "    }\n",
              "\n",
              "    .dataframe tbody tr th {\n",
              "        vertical-align: top;\n",
              "    }\n",
              "\n",
              "    .dataframe thead th {\n",
              "        text-align: right;\n",
              "    }\n",
              "</style>\n",
              "<table border=\"1\" class=\"dataframe\">\n",
              "  <thead>\n",
              "    <tr style=\"text-align: right;\">\n",
              "      <th></th>\n",
              "      <th>SCORE</th>\n",
              "      <th>ACCURACY TRAIN</th>\n",
              "      <th>ACCURACY TEST</th>\n",
              "      <th>PRECISION TEST</th>\n",
              "      <th>RECALL TEST</th>\n",
              "      <th>TIME FOR FIT</th>\n",
              "    </tr>\n",
              "  </thead>\n",
              "  <tbody>\n",
              "    <tr>\n",
              "      <th>log</th>\n",
              "      <td>0.841121</td>\n",
              "      <td>0.925134</td>\n",
              "      <td>0.844720</td>\n",
              "      <td>0.495455</td>\n",
              "      <td>0.496767</td>\n",
              "      <td>0.04922938346862793 sec</td>\n",
              "    </tr>\n",
              "    <tr>\n",
              "      <th>sgd</th>\n",
              "      <td>0.794393</td>\n",
              "      <td>0.914439</td>\n",
              "      <td>0.844720</td>\n",
              "      <td>0.575980</td>\n",
              "      <td>0.580172</td>\n",
              "      <td>0.004396200180053711 sec</td>\n",
              "    </tr>\n",
              "    <tr>\n",
              "      <th>ridge</th>\n",
              "      <td>0.891589</td>\n",
              "      <td>0.909091</td>\n",
              "      <td>0.900621</td>\n",
              "      <td>0.450311</td>\n",
              "      <td>0.500000</td>\n",
              "      <td>0.011863946914672852 sec</td>\n",
              "    </tr>\n",
              "    <tr>\n",
              "      <th>pac</th>\n",
              "      <td>0.790654</td>\n",
              "      <td>0.847594</td>\n",
              "      <td>0.832298</td>\n",
              "      <td>0.563010</td>\n",
              "      <td>0.573276</td>\n",
              "      <td>0.008141756057739258 sec</td>\n",
              "    </tr>\n",
              "    <tr>\n",
              "      <th>perc</th>\n",
              "      <td>0.770093</td>\n",
              "      <td>0.922460</td>\n",
              "      <td>0.857143</td>\n",
              "      <td>0.544242</td>\n",
              "      <td>0.531466</td>\n",
              "      <td>0.0045282840728759766 sec</td>\n",
              "    </tr>\n",
              "    <tr>\n",
              "      <th>linear_svc</th>\n",
              "      <td>0.826168</td>\n",
              "      <td>0.925134</td>\n",
              "      <td>0.850932</td>\n",
              "      <td>0.447712</td>\n",
              "      <td>0.472414</td>\n",
              "      <td>0.037218570709228516 sec</td>\n",
              "    </tr>\n",
              "    <tr>\n",
              "      <th>rbf_svc</th>\n",
              "      <td>0.902804</td>\n",
              "      <td>0.903743</td>\n",
              "      <td>0.900621</td>\n",
              "      <td>0.450311</td>\n",
              "      <td>0.500000</td>\n",
              "      <td>0.009350061416625977 sec</td>\n",
              "    </tr>\n",
              "    <tr>\n",
              "      <th>poly_svc</th>\n",
              "      <td>0.887850</td>\n",
              "      <td>0.930481</td>\n",
              "      <td>0.894410</td>\n",
              "      <td>0.619198</td>\n",
              "      <td>0.524353</td>\n",
              "      <td>0.010329246520996094 sec</td>\n",
              "    </tr>\n",
              "    <tr>\n",
              "      <th>mlp</th>\n",
              "      <td>0.807477</td>\n",
              "      <td>0.986631</td>\n",
              "      <td>0.900621</td>\n",
              "      <td>0.702830</td>\n",
              "      <td>0.527802</td>\n",
              "      <td>0.8052444458007812 sec</td>\n",
              "    </tr>\n",
              "    <tr>\n",
              "      <th>knn</th>\n",
              "      <td>0.895327</td>\n",
              "      <td>0.909091</td>\n",
              "      <td>0.888199</td>\n",
              "      <td>0.449686</td>\n",
              "      <td>0.493103</td>\n",
              "      <td>0.003521442413330078 sec</td>\n",
              "    </tr>\n",
              "    <tr>\n",
              "      <th>gpc</th>\n",
              "      <td>0.848598</td>\n",
              "      <td>1.000000</td>\n",
              "      <td>0.844720</td>\n",
              "      <td>0.495455</td>\n",
              "      <td>0.496767</td>\n",
              "      <td>0.1658611297607422 sec</td>\n",
              "    </tr>\n",
              "    <tr>\n",
              "      <th>qda</th>\n",
              "      <td>0.902804</td>\n",
              "      <td>1.000000</td>\n",
              "      <td>0.900621</td>\n",
              "      <td>0.450311</td>\n",
              "      <td>0.500000</td>\n",
              "      <td>0.016520023345947266 sec</td>\n",
              "    </tr>\n",
              "    <tr>\n",
              "      <th>gnb</th>\n",
              "      <td>0.800000</td>\n",
              "      <td>0.858289</td>\n",
              "      <td>0.869565</td>\n",
              "      <td>0.593030</td>\n",
              "      <td>0.566164</td>\n",
              "      <td>0.0029523372650146484 sec</td>\n",
              "    </tr>\n",
              "    <tr>\n",
              "      <th>bnb</th>\n",
              "      <td>0.874766</td>\n",
              "      <td>0.901070</td>\n",
              "      <td>0.875776</td>\n",
              "      <td>0.534946</td>\n",
              "      <td>0.514009</td>\n",
              "      <td>0.005819797515869141 sec</td>\n",
              "    </tr>\n",
              "    <tr>\n",
              "      <th>tree</th>\n",
              "      <td>0.786916</td>\n",
              "      <td>1.000000</td>\n",
              "      <td>0.763975</td>\n",
              "      <td>0.442446</td>\n",
              "      <td>0.424138</td>\n",
              "      <td>0.02919769287109375 sec</td>\n",
              "    </tr>\n",
              "    <tr>\n",
              "      <th>forest</th>\n",
              "      <td>0.899065</td>\n",
              "      <td>1.000000</td>\n",
              "      <td>0.900621</td>\n",
              "      <td>0.450311</td>\n",
              "      <td>0.500000</td>\n",
              "      <td>0.2982289791107178 sec</td>\n",
              "    </tr>\n",
              "    <tr>\n",
              "      <th>ada</th>\n",
              "      <td>0.842991</td>\n",
              "      <td>1.000000</td>\n",
              "      <td>0.881988</td>\n",
              "      <td>0.623904</td>\n",
              "      <td>0.573060</td>\n",
              "      <td>0.18653130531311035 sec</td>\n",
              "    </tr>\n",
              "    <tr>\n",
              "      <th>extra</th>\n",
              "      <td>0.900935</td>\n",
              "      <td>1.000000</td>\n",
              "      <td>0.900621</td>\n",
              "      <td>0.450311</td>\n",
              "      <td>0.500000</td>\n",
              "      <td>0.13502264022827148 sec</td>\n",
              "    </tr>\n",
              "    <tr>\n",
              "      <th>gboost</th>\n",
              "      <td>0.844860</td>\n",
              "      <td>1.000000</td>\n",
              "      <td>0.875776</td>\n",
              "      <td>0.449045</td>\n",
              "      <td>0.486207</td>\n",
              "      <td>0.505526065826416 sec</td>\n",
              "    </tr>\n",
              "  </tbody>\n",
              "</table>\n",
              "</div>"
            ],
            "text/plain": [
              "               SCORE  ACCURACY TRAIN  ...  RECALL TEST               TIME FOR FIT\n",
              "log         0.841121        0.925134  ...     0.496767    0.04922938346862793 sec\n",
              "sgd         0.794393        0.914439  ...     0.580172   0.004396200180053711 sec\n",
              "ridge       0.891589        0.909091  ...     0.500000   0.011863946914672852 sec\n",
              "pac         0.790654        0.847594  ...     0.573276   0.008141756057739258 sec\n",
              "perc        0.770093        0.922460  ...     0.531466  0.0045282840728759766 sec\n",
              "linear_svc  0.826168        0.925134  ...     0.472414   0.037218570709228516 sec\n",
              "rbf_svc     0.902804        0.903743  ...     0.500000   0.009350061416625977 sec\n",
              "poly_svc    0.887850        0.930481  ...     0.524353   0.010329246520996094 sec\n",
              "mlp         0.807477        0.986631  ...     0.527802     0.8052444458007812 sec\n",
              "knn         0.895327        0.909091  ...     0.493103   0.003521442413330078 sec\n",
              "gpc         0.848598        1.000000  ...     0.496767     0.1658611297607422 sec\n",
              "qda         0.902804        1.000000  ...     0.500000   0.016520023345947266 sec\n",
              "gnb         0.800000        0.858289  ...     0.566164  0.0029523372650146484 sec\n",
              "bnb         0.874766        0.901070  ...     0.514009   0.005819797515869141 sec\n",
              "tree        0.786916        1.000000  ...     0.424138    0.02919769287109375 sec\n",
              "forest      0.899065        1.000000  ...     0.500000     0.2982289791107178 sec\n",
              "ada         0.842991        1.000000  ...     0.573060    0.18653130531311035 sec\n",
              "extra       0.900935        1.000000  ...     0.500000    0.13502264022827148 sec\n",
              "gboost      0.844860        1.000000  ...     0.486207      0.505526065826416 sec\n",
              "\n",
              "[19 rows x 6 columns]"
            ]
          },
          "metadata": {
            "tags": []
          },
          "execution_count": 25
        }
      ]
    },
    {
      "cell_type": "code",
      "metadata": {
        "id": "RaCOwsSSJZ7B"
      },
      "source": [
        "#table.to_csv('/drive/My Drive/мага речевые технологии/cvs датасетов opensmile/librosa_savee_метрики.csv')"
      ],
      "execution_count": null,
      "outputs": []
    },
    {
      "cell_type": "code",
      "metadata": {
        "id": "k_MV6SRbTw3X"
      },
      "source": [
        ""
      ],
      "execution_count": null,
      "outputs": []
    }
  ]
}